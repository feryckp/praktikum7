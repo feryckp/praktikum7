{
  "nbformat": 4,
  "nbformat_minor": 0,
  "metadata": {
    "colab": {
      "private_outputs": true,
      "provenance": []
    },
    "kernelspec": {
      "name": "python3",
      "display_name": "Python 3"
    },
    "language_info": {
      "name": "python"
    }
  },
  "cells": [
    {
      "cell_type": "code",
      "source": [
        "# Definisikan kelas Node untuk merepresentasikan simpul dalam pohon biner.\n",
        "class Node:\n",
        "    def __init__(self, key):\n",
        "        # Inisialisasi simpul dengan nilai (key), dan kedua anak simpul (left dan right) diatur sebagai None.\n",
        "        self.left = None\n",
        "        self.right = None\n",
        "        self.val = key\n",
        "\n",
        "# Fungsi untuk mencetak traversal postorder dari pohon biner.\n",
        "def printPostorder(root):\n",
        "    # Jika root tidak kosong (tidak None), lakukan traversal postorder.\n",
        "    if root:\n",
        "        # Panggil printPostorder untuk simpul kiri secara rekursif.\n",
        "        printPostorder(root.left)\n",
        "        # Panggil printPostorder untuk simpul kanan secara rekursif.\n",
        "        printPostorder(root.right)\n",
        "        # Cetak nilai simpul saat ini.\n",
        "        print(root.val),\n",
        "\n",
        "# Program utama dimulai di sini.\n",
        "if __name__ == \"__main__\":\n",
        "    # Membuat objek root dari kelas Node dengan nilai 1.\n",
        "    root = Node(1)\n",
        "    # Menyusun struktur pohon dengan menambahkan simpul anak kiri (2) dan anak kanan (3) ke root.\n",
        "    root.left = Node(2)\n",
        "    root.right = Node(3)\n",
        "    # Menambahkan simpul anak kiri (4) dan anak kanan (5) ke simpul anak kiri (2).\n",
        "    root.left.left = Node(4)\n",
        "    root.left.right = Node(5)\n",
        "\n",
        "    # Cetak hasil traversal postorder dari pohon biner.\n",
        "    print(\"\\nPostorder traversal of binary tree is\")\n",
        "    printPostorder(root)\n"
      ],
      "metadata": {
        "id": "tkciDDwvI7j3"
      },
      "execution_count": null,
      "outputs": []
    }
  ]
}